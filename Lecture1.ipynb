{
 "cells": [
  {
   "cell_type": "code",
   "execution_count": 1,
   "id": "fc85b30d-6119-4c83-a538-9c1283f76683",
   "metadata": {},
   "outputs": [
    {
     "name": "stdout",
     "output_type": "stream",
     "text": [
      "10\n"
     ]
    }
   ],
   "source": [
    "# Printing Output:\n",
    "a = 10;\n",
    "print(a);"
   ]
  },
  {
   "cell_type": "code",
   "execution_count": 3,
   "id": "95e19881-1057-4f23-98b3-be5b9317345d",
   "metadata": {},
   "outputs": [
    {
     "name": "stdin",
     "output_type": "stream",
     "text": [
      "Enter Your Name: Shahzad Khan\n"
     ]
    },
    {
     "name": "stdout",
     "output_type": "stream",
     "text": [
      "Shahzad Khan\n"
     ]
    }
   ],
   "source": [
    "# Assigning Values to variables through inputs:\n",
    "name = input(\"Enter Your Name:\")\n",
    "print(name);"
   ]
  },
  {
   "cell_type": "code",
   "execution_count": 4,
   "id": "97b4f6da-6eb2-4669-936f-87ce8c54ac3d",
   "metadata": {},
   "outputs": [
    {
     "name": "stdout",
     "output_type": "stream",
     "text": [
      "Your age is:24 and your degree is:BSCS\n"
     ]
    }
   ],
   "source": [
    "# Assigning Values to variables without specific datatypes:\n",
    "age = 24;\n",
    "degree = 'BSCS';\n",
    "print(\"Your age is:\" +str(age) + \" and your degree is:\" + degree);"
   ]
  }
 ],
 "metadata": {
  "kernelspec": {
   "display_name": "Python 3 (ipykernel)",
   "language": "python",
   "name": "python3"
  },
  "language_info": {
   "codemirror_mode": {
    "name": "ipython",
    "version": 3
   },
   "file_extension": ".py",
   "mimetype": "text/x-python",
   "name": "python",
   "nbconvert_exporter": "python",
   "pygments_lexer": "ipython3",
   "version": "3.13.2"
  }
 },
 "nbformat": 4,
 "nbformat_minor": 5
}
