{
 "cells": [
  {
   "cell_type": "code",
   "execution_count": 4,
   "id": "107a9363-06ca-4d0c-9c27-67f04d3318b4",
   "metadata": {},
   "outputs": [
    {
     "name": "stdout",
     "output_type": "stream",
     "text": [
      "['orange', 'mango', 'strawberry ']\n"
     ]
    }
   ],
   "source": [
    "# Lists:\n",
    "Lists = [\"orange\", \"mango\",\"strawberry \"]\n",
    "print(Lists)"
   ]
  },
  {
   "cell_type": "code",
   "execution_count": 3,
   "id": "3db8dc44-7a96-49cf-934b-75a4d8389b68",
   "metadata": {},
   "outputs": [
    {
     "name": "stdout",
     "output_type": "stream",
     "text": [
      "(1, 2, 3, 4, 5, 6, 7, 8, 9, 10)\n"
     ]
    }
   ],
   "source": [
    "# Tuples:\n",
    "my_tuple = (1,2,3,4,5,6,7,8,9,10)\n",
    "print(my_tuple)"
   ]
  }
 ],
 "metadata": {
  "kernelspec": {
   "display_name": "Python 3 (ipykernel)",
   "language": "python",
   "name": "python3"
  },
  "language_info": {
   "codemirror_mode": {
    "name": "ipython",
    "version": 3
   },
   "file_extension": ".py",
   "mimetype": "text/x-python",
   "name": "python",
   "nbconvert_exporter": "python",
   "pygments_lexer": "ipython3",
   "version": "3.13.2"
  }
 },
 "nbformat": 4,
 "nbformat_minor": 5
}
